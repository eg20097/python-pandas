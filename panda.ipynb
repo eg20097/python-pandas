{
 "cells": [
  {
   "cell_type": "code",
   "execution_count": 1,
   "id": "38e2cfb2",
   "metadata": {
    "_cell_guid": "b1076dfc-b9ad-4769-8c92-a6c4dae69d19",
    "_uuid": "8f2839f25d086af736a60e9eeb907d3b93b6e0e5",
    "execution": {
     "iopub.execute_input": "2022-12-06T18:29:43.603237Z",
     "iopub.status.busy": "2022-12-06T18:29:43.602775Z",
     "iopub.status.idle": "2022-12-06T18:29:43.614250Z",
     "shell.execute_reply": "2022-12-06T18:29:43.613291Z"
    },
    "papermill": {
     "duration": 0.01976,
     "end_time": "2022-12-06T18:29:43.616818",
     "exception": false,
     "start_time": "2022-12-06T18:29:43.597058",
     "status": "completed"
    },
    "tags": []
   },
   "outputs": [],
   "source": [
    "#kako da se preuzme Pandas i da provjerimo verziju\n",
    "\n",
    "import pandas as pd\n",
    "#print(pd.__version__)\n",
    "\n",
    "#Napravimo pandas niz od: 1)list, 2)numpy array, 3)dictionary\n",
    "\n",
    "import numpy as np\n",
    "lista = list(\"abcdefg\")\n",
    "numpy_array = np.arange(1, 10) #od 1 do 10 svi brojevi\n",
    "dictionary = {\"A\":  0, \"B\":1, \"C\":2, \"D\":3, \"E\":5}\n",
    "\n"
   ]
  },
  {
   "cell_type": "code",
   "execution_count": 2,
   "id": "93226eaf",
   "metadata": {
    "execution": {
     "iopub.execute_input": "2022-12-06T18:29:43.624813Z",
     "iopub.status.busy": "2022-12-06T18:29:43.624372Z",
     "iopub.status.idle": "2022-12-06T18:29:43.638545Z",
     "shell.execute_reply": "2022-12-06T18:29:43.637299Z"
    },
    "papermill": {
     "duration": 0.021274,
     "end_time": "2022-12-06T18:29:43.641342",
     "exception": false,
     "start_time": "2022-12-06T18:29:43.620068",
     "status": "completed"
    },
    "tags": []
   },
   "outputs": [
    {
     "name": "stdout",
     "output_type": "stream",
     "text": [
      "0    a\n",
      "1    b\n",
      "2    c\n",
      "3    d\n",
      "4    e\n",
      "5    f\n",
      "6    g\n",
      "dtype: object\n",
      "0    1\n",
      "1    2\n",
      "2    3\n",
      "3    4\n",
      "4    5\n",
      "5    6\n",
      "6    7\n",
      "7    8\n",
      "8    9\n",
      "dtype: int64\n",
      "A    0\n",
      "B    1\n",
      "C    2\n",
      "D    3\n",
      "E    5\n",
      "dtype: int64\n"
     ]
    }
   ],
   "source": [
    "series1 = pd.Series(lista) #stampa svaki element liste u vrste i oznacavamo vrste od 0 do broj elemenata unutar liste\n",
    "print(series1)\n",
    "series2 = pd.Series(numpy_array)\n",
    "print(series2)\n",
    "series3 = pd.Series(dictionary) #kod dictionary ne oznacimo vrste \n",
    "#sa indeksima nego kako su oznacene unutar dictionary\n",
    "print(series3)\n",
    "\n"
   ]
  },
  {
   "cell_type": "code",
   "execution_count": 3,
   "id": "53d46f5a",
   "metadata": {
    "execution": {
     "iopub.execute_input": "2022-12-06T18:29:43.652677Z",
     "iopub.status.busy": "2022-12-06T18:29:43.652259Z",
     "iopub.status.idle": "2022-12-06T18:29:43.690603Z",
     "shell.execute_reply": "2022-12-06T18:29:43.689642Z"
    },
    "papermill": {
     "duration": 0.046969,
     "end_time": "2022-12-06T18:29:43.693933",
     "exception": false,
     "start_time": "2022-12-06T18:29:43.646964",
     "status": "completed"
    },
    "tags": []
   },
   "outputs": [
    {
     "data": {
      "text/html": [
       "<div>\n",
       "<style scoped>\n",
       "    .dataframe tbody tr th:only-of-type {\n",
       "        vertical-align: middle;\n",
       "    }\n",
       "\n",
       "    .dataframe tbody tr th {\n",
       "        vertical-align: top;\n",
       "    }\n",
       "\n",
       "    .dataframe thead th {\n",
       "        text-align: right;\n",
       "    }\n",
       "</style>\n",
       "<table border=\"1\" class=\"dataframe\">\n",
       "  <thead>\n",
       "    <tr style=\"text-align: right;\">\n",
       "      <th></th>\n",
       "      <th>index</th>\n",
       "      <th>0</th>\n",
       "    </tr>\n",
       "  </thead>\n",
       "  <tbody>\n",
       "    <tr>\n",
       "      <th>0</th>\n",
       "      <td>a</td>\n",
       "      <td>0</td>\n",
       "    </tr>\n",
       "    <tr>\n",
       "      <th>1</th>\n",
       "      <td>b</td>\n",
       "      <td>1</td>\n",
       "    </tr>\n",
       "    <tr>\n",
       "      <th>2</th>\n",
       "      <td>c</td>\n",
       "      <td>2</td>\n",
       "    </tr>\n",
       "    <tr>\n",
       "      <th>3</th>\n",
       "      <td>e</td>\n",
       "      <td>3</td>\n",
       "    </tr>\n",
       "    <tr>\n",
       "      <th>4</th>\n",
       "      <td>d</td>\n",
       "      <td>4</td>\n",
       "    </tr>\n",
       "    <tr>\n",
       "      <th>5</th>\n",
       "      <td>f</td>\n",
       "      <td>5</td>\n",
       "    </tr>\n",
       "    <tr>\n",
       "      <th>6</th>\n",
       "      <td>g</td>\n",
       "      <td>6</td>\n",
       "    </tr>\n",
       "    <tr>\n",
       "      <th>7</th>\n",
       "      <td>h</td>\n",
       "      <td>7</td>\n",
       "    </tr>\n",
       "    <tr>\n",
       "      <th>8</th>\n",
       "      <td>i</td>\n",
       "      <td>8</td>\n",
       "    </tr>\n",
       "    <tr>\n",
       "      <th>9</th>\n",
       "      <td>j</td>\n",
       "      <td>9</td>\n",
       "    </tr>\n",
       "    <tr>\n",
       "      <th>10</th>\n",
       "      <td>k</td>\n",
       "      <td>10</td>\n",
       "    </tr>\n",
       "    <tr>\n",
       "      <th>11</th>\n",
       "      <td>l</td>\n",
       "      <td>11</td>\n",
       "    </tr>\n",
       "    <tr>\n",
       "      <th>12</th>\n",
       "      <td>m</td>\n",
       "      <td>12</td>\n",
       "    </tr>\n",
       "    <tr>\n",
       "      <th>13</th>\n",
       "      <td>n</td>\n",
       "      <td>13</td>\n",
       "    </tr>\n",
       "    <tr>\n",
       "      <th>14</th>\n",
       "      <td>o</td>\n",
       "      <td>14</td>\n",
       "    </tr>\n",
       "    <tr>\n",
       "      <th>15</th>\n",
       "      <td>p</td>\n",
       "      <td>15</td>\n",
       "    </tr>\n",
       "    <tr>\n",
       "      <th>16</th>\n",
       "      <td>q</td>\n",
       "      <td>16</td>\n",
       "    </tr>\n",
       "    <tr>\n",
       "      <th>17</th>\n",
       "      <td>r</td>\n",
       "      <td>17</td>\n",
       "    </tr>\n",
       "    <tr>\n",
       "      <th>18</th>\n",
       "      <td>s</td>\n",
       "      <td>18</td>\n",
       "    </tr>\n",
       "    <tr>\n",
       "      <th>19</th>\n",
       "      <td>t</td>\n",
       "      <td>19</td>\n",
       "    </tr>\n",
       "    <tr>\n",
       "      <th>20</th>\n",
       "      <td>u</td>\n",
       "      <td>20</td>\n",
       "    </tr>\n",
       "    <tr>\n",
       "      <th>21</th>\n",
       "      <td>v</td>\n",
       "      <td>21</td>\n",
       "    </tr>\n",
       "    <tr>\n",
       "      <th>22</th>\n",
       "      <td>w</td>\n",
       "      <td>22</td>\n",
       "    </tr>\n",
       "    <tr>\n",
       "      <th>23</th>\n",
       "      <td>x</td>\n",
       "      <td>23</td>\n",
       "    </tr>\n",
       "    <tr>\n",
       "      <th>24</th>\n",
       "      <td>y</td>\n",
       "      <td>24</td>\n",
       "    </tr>\n",
       "    <tr>\n",
       "      <th>25</th>\n",
       "      <td>z</td>\n",
       "      <td>25</td>\n",
       "    </tr>\n",
       "  </tbody>\n",
       "</table>\n",
       "</div>"
      ],
      "text/plain": [
       "   index   0\n",
       "0      a   0\n",
       "1      b   1\n",
       "2      c   2\n",
       "3      e   3\n",
       "4      d   4\n",
       "5      f   5\n",
       "6      g   6\n",
       "7      h   7\n",
       "8      i   8\n",
       "9      j   9\n",
       "10     k  10\n",
       "11     l  11\n",
       "12     m  12\n",
       "13     n  13\n",
       "14     o  14\n",
       "15     p  15\n",
       "16     q  16\n",
       "17     r  17\n",
       "18     s  18\n",
       "19     t  19\n",
       "20     u  20\n",
       "21     v  21\n",
       "22     w  22\n",
       "23     x  23\n",
       "24     y  24\n",
       "25     z  25"
      ]
     },
     "execution_count": 3,
     "metadata": {},
     "output_type": "execute_result"
    }
   ],
   "source": [
    "#Kako da napravimo tabelu\n",
    "\n",
    "mylist = list('abcedfghijklmnopqrstuvwxyz')\n",
    "myarr = np.arange(26)\n",
    "mydict = dict(zip(mylist, myarr)) #napravimo dictionary tako da spojimo prvi element \n",
    "#iz my list sa prvom elementom od myarr\n",
    "#print(mydict)\n",
    "ser = pd.Series(mydict)\n",
    "#print(ser)\n",
    "\n",
    "ser_df = pd.DataFrame(ser)#dodamo jos jednu vrstu gore jer to ce da nam bude potrebno za indeksiranje\n",
    "#print(ser_df)\n",
    "ser_df.reset_index() #stavimo indekse od 0 do n, lijeva kolona "
   ]
  },
  {
   "cell_type": "code",
   "execution_count": 4,
   "id": "23351f5a",
   "metadata": {
    "execution": {
     "iopub.execute_input": "2022-12-06T18:29:43.705608Z",
     "iopub.status.busy": "2022-12-06T18:29:43.705003Z",
     "iopub.status.idle": "2022-12-06T18:29:43.721863Z",
     "shell.execute_reply": "2022-12-06T18:29:43.719869Z"
    },
    "papermill": {
     "duration": 0.025757,
     "end_time": "2022-12-06T18:29:43.725069",
     "exception": false,
     "start_time": "2022-12-06T18:29:43.699312",
     "status": "completed"
    },
    "tags": []
   },
   "outputs": [
    {
     "data": {
      "text/html": [
       "<div>\n",
       "<style scoped>\n",
       "    .dataframe tbody tr th:only-of-type {\n",
       "        vertical-align: middle;\n",
       "    }\n",
       "\n",
       "    .dataframe tbody tr th {\n",
       "        vertical-align: top;\n",
       "    }\n",
       "\n",
       "    .dataframe thead th {\n",
       "        text-align: right;\n",
       "    }\n",
       "</style>\n",
       "<table border=\"1\" class=\"dataframe\">\n",
       "  <thead>\n",
       "    <tr style=\"text-align: right;\">\n",
       "      <th></th>\n",
       "      <th>col1</th>\n",
       "      <th>col2</th>\n",
       "    </tr>\n",
       "  </thead>\n",
       "  <tbody>\n",
       "    <tr>\n",
       "      <th>0</th>\n",
       "      <td>E</td>\n",
       "      <td>0</td>\n",
       "    </tr>\n",
       "    <tr>\n",
       "      <th>1</th>\n",
       "      <td>n</td>\n",
       "      <td>1</td>\n",
       "    </tr>\n",
       "    <tr>\n",
       "      <th>2</th>\n",
       "      <td>i</td>\n",
       "      <td>2</td>\n",
       "    </tr>\n",
       "    <tr>\n",
       "      <th>3</th>\n",
       "      <td>s</td>\n",
       "      <td>3</td>\n",
       "    </tr>\n",
       "    <tr>\n",
       "      <th>4</th>\n",
       "      <td>a</td>\n",
       "      <td>4</td>\n",
       "    </tr>\n",
       "  </tbody>\n",
       "</table>\n",
       "</div>"
      ],
      "text/plain": [
       "  col1  col2\n",
       "0    E     0\n",
       "1    n     1\n",
       "2    i     2\n",
       "3    s     3\n",
       "4    a     4"
      ]
     },
     "execution_count": 4,
     "metadata": {},
     "output_type": "execute_result"
    }
   ],
   "source": [
    "#Kako da prikazemo dvije ili vise nizova tabelarno\n",
    "ser1 = pd.Series(list('EnisaErestina'))\n",
    "ser2 = pd.Series(np.arange(13))\n",
    "#print(ser1)\n",
    "#print(ser2)\n",
    "\n",
    "#Koristimo Pandas DataFrame\n",
    "twoser = pd.DataFrame({\"col1\":ser1, \"col2\":ser2})\n",
    "twoser.head() #po default pokaze samo prve 5 vrste, a mozemo vise ili manje od toga npr twoser.head(13)\n",
    "#print(twoser) - print ne stampa ih kako treba, preglednije .head()"
   ]
  },
  {
   "cell_type": "code",
   "execution_count": 5,
   "id": "5ee63e1e",
   "metadata": {
    "execution": {
     "iopub.execute_input": "2022-12-06T18:29:43.736625Z",
     "iopub.status.busy": "2022-12-06T18:29:43.736192Z",
     "iopub.status.idle": "2022-12-06T18:29:43.747406Z",
     "shell.execute_reply": "2022-12-06T18:29:43.745891Z"
    },
    "papermill": {
     "duration": 0.019748,
     "end_time": "2022-12-06T18:29:43.749802",
     "exception": false,
     "start_time": "2022-12-06T18:29:43.730054",
     "status": "completed"
    },
    "tags": []
   },
   "outputs": [
    {
     "data": {
      "text/plain": [
       "0     a\n",
       "1     b\n",
       "2     c\n",
       "3     e\n",
       "4     d\n",
       "5     f\n",
       "6     g\n",
       "7     h\n",
       "8     i\n",
       "9     j\n",
       "10    k\n",
       "11    l\n",
       "12    m\n",
       "13    n\n",
       "14    o\n",
       "15    p\n",
       "16    q\n",
       "17    r\n",
       "18    s\n",
       "19    t\n",
       "20    u\n",
       "21    v\n",
       "22    w\n",
       "23    x\n",
       "24    y\n",
       "25    z\n",
       "Name: slove, dtype: object"
      ]
     },
     "execution_count": 5,
     "metadata": {},
     "output_type": "execute_result"
    }
   ],
   "source": [
    "#Kako dati ime nizu?\n",
    "niz = pd.Series(list('abcedfghijklmnopqrstuvwxyz'))\n",
    "niz.name = \"slove\" #koristimo atribut name\n",
    "niz #ili print(niz)"
   ]
  },
  {
   "cell_type": "code",
   "execution_count": 6,
   "id": "a043d541",
   "metadata": {
    "execution": {
     "iopub.execute_input": "2022-12-06T18:29:43.759138Z",
     "iopub.status.busy": "2022-12-06T18:29:43.758735Z",
     "iopub.status.idle": "2022-12-06T18:29:43.774081Z",
     "shell.execute_reply": "2022-12-06T18:29:43.773135Z"
    },
    "papermill": {
     "duration": 0.023888,
     "end_time": "2022-12-06T18:29:43.777523",
     "exception": false,
     "start_time": "2022-12-06T18:29:43.753635",
     "status": "completed"
    },
    "tags": []
   },
   "outputs": [
    {
     "data": {
      "text/html": [
       "<div>\n",
       "<style scoped>\n",
       "    .dataframe tbody tr th:only-of-type {\n",
       "        vertical-align: middle;\n",
       "    }\n",
       "\n",
       "    .dataframe tbody tr th {\n",
       "        vertical-align: top;\n",
       "    }\n",
       "\n",
       "    .dataframe thead th {\n",
       "        text-align: right;\n",
       "    }\n",
       "</style>\n",
       "<table border=\"1\" class=\"dataframe\">\n",
       "  <thead>\n",
       "    <tr style=\"text-align: right;\">\n",
       "      <th></th>\n",
       "      <th>0</th>\n",
       "      <th>1</th>\n",
       "      <th>2</th>\n",
       "      <th>3</th>\n",
       "      <th>4</th>\n",
       "      <th>5</th>\n",
       "    </tr>\n",
       "  </thead>\n",
       "  <tbody>\n",
       "    <tr>\n",
       "      <th>0</th>\n",
       "      <td>7</td>\n",
       "      <td>12</td>\n",
       "      <td>12</td>\n",
       "      <td>14</td>\n",
       "      <td>5</td>\n",
       "      <td>12</td>\n",
       "    </tr>\n",
       "    <tr>\n",
       "      <th>1</th>\n",
       "      <td>6</td>\n",
       "      <td>4</td>\n",
       "      <td>3</td>\n",
       "      <td>3</td>\n",
       "      <td>7</td>\n",
       "      <td>3</td>\n",
       "    </tr>\n",
       "    <tr>\n",
       "      <th>2</th>\n",
       "      <td>13</td>\n",
       "      <td>4</td>\n",
       "      <td>14</td>\n",
       "      <td>7</td>\n",
       "      <td>5</td>\n",
       "      <td>7</td>\n",
       "    </tr>\n",
       "    <tr>\n",
       "      <th>3</th>\n",
       "      <td>7</td>\n",
       "      <td>13</td>\n",
       "      <td>11</td>\n",
       "      <td>8</td>\n",
       "      <td>2</td>\n",
       "      <td>5</td>\n",
       "    </tr>\n",
       "    <tr>\n",
       "      <th>4</th>\n",
       "      <td>11</td>\n",
       "      <td>12</td>\n",
       "      <td>5</td>\n",
       "      <td>3</td>\n",
       "      <td>4</td>\n",
       "      <td>2</td>\n",
       "    </tr>\n",
       "  </tbody>\n",
       "</table>\n",
       "</div>"
      ],
      "text/plain": [
       "    0   1   2   3  4   5\n",
       "0   7  12  12  14  5  12\n",
       "1   6   4   3   3  7   3\n",
       "2  13   4  14   7  5   7\n",
       "3   7  13  11   8  2   5\n",
       "4  11  12   5   3  4   2"
      ]
     },
     "execution_count": 6,
     "metadata": {},
     "output_type": "execute_result"
    }
   ],
   "source": [
    "#Kako da napravimo niz koji ima 30 elemenata i svi elementi imaju vrijednosti od 0 do 15?\n",
    "\n",
    "new = pd.Series(np.random.randint(1, 15, 30)) # 1 je od kojeg broja moze da pocinje do 15\n",
    "# 30 je koliko linija, vrste imamo\n",
    "new \n",
    "#dovoljno je samo ime ne treba print ovdje\n",
    "\n",
    "pd.DataFrame(new.values.reshape(5, 6)) # koristimo 5 i 6 jer 5 * 6, uvijek proizvod\n",
    "#ove dvije daje broj linija, 5 vrsta i 6 kolona\n",
    "#napravili smo tablicu na neki drugi nacin"
   ]
  },
  {
   "cell_type": "code",
   "execution_count": 7,
   "id": "e2eed3ea",
   "metadata": {
    "execution": {
     "iopub.execute_input": "2022-12-06T18:29:43.793110Z",
     "iopub.status.busy": "2022-12-06T18:29:43.792304Z",
     "iopub.status.idle": "2022-12-06T18:29:43.805914Z",
     "shell.execute_reply": "2022-12-06T18:29:43.804701Z"
    },
    "papermill": {
     "duration": 0.025026,
     "end_time": "2022-12-06T18:29:43.808601",
     "exception": false,
     "start_time": "2022-12-06T18:29:43.783575",
     "status": "completed"
    },
    "tags": []
   },
   "outputs": [
    {
     "data": {
      "text/plain": [
       "0     P\n",
       "4     a\n",
       "8     _\n",
       "14    e\n",
       "dtype: object"
      ]
     },
     "execution_count": 7,
     "metadata": {},
     "output_type": "execute_result"
    }
   ],
   "source": [
    "#Kako da nadjemo elemente koje su na odredjene pozicije?\n",
    "\n",
    "n = pd.Series(list('Pandas_u_Kaggle'))\n",
    "pos = [0, 4, 8, 14]\n",
    "#Koristimo funkciju take, onda uzima vrijednost u poziciji koju mi definisemo\n",
    "n.take(pos)"
   ]
  },
  {
   "cell_type": "code",
   "execution_count": 8,
   "id": "ca3723a4",
   "metadata": {
    "execution": {
     "iopub.execute_input": "2022-12-06T18:29:43.819101Z",
     "iopub.status.busy": "2022-12-06T18:29:43.818322Z",
     "iopub.status.idle": "2022-12-06T18:29:43.830281Z",
     "shell.execute_reply": "2022-12-06T18:29:43.828713Z"
    },
    "papermill": {
     "duration": 0.021403,
     "end_time": "2022-12-06T18:29:43.834185",
     "exception": false,
     "start_time": "2022-12-06T18:29:43.812782",
     "status": "completed"
    },
    "tags": []
   },
   "outputs": [
    {
     "data": {
      "text/plain": [
       "0    Danas\n",
       "1       Je\n",
       "2    Lijep\n",
       "3      Dan\n",
       "dtype: object"
      ]
     },
     "execution_count": 8,
     "metadata": {},
     "output_type": "execute_result"
    }
   ],
   "source": [
    "#Da svaki rijec ima prvu veliku slovu\n",
    "ser = pd.Series(['Danas', 'je', 'lijep', 'dan'])\n",
    "ser\n",
    "[i.title() for i in ser] #list\n",
    "#ili\n",
    "ser.map(lambda x: x.title()) #tabela"
   ]
  }
 ],
 "metadata": {
  "kernelspec": {
   "display_name": "Python 3",
   "language": "python",
   "name": "python3"
  },
  "language_info": {
   "codemirror_mode": {
    "name": "ipython",
    "version": 3
   },
   "file_extension": ".py",
   "mimetype": "text/x-python",
   "name": "python",
   "nbconvert_exporter": "python",
   "pygments_lexer": "ipython3",
   "version": "3.7.12"
  },
  "papermill": {
   "default_parameters": {},
   "duration": 10.066364,
   "end_time": "2022-12-06T18:29:44.561204",
   "environment_variables": {},
   "exception": null,
   "input_path": "__notebook__.ipynb",
   "output_path": "__notebook__.ipynb",
   "parameters": {},
   "start_time": "2022-12-06T18:29:34.494840",
   "version": "2.3.4"
  }
 },
 "nbformat": 4,
 "nbformat_minor": 5
}
